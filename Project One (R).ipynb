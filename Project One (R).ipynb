{
 "cells": [
  {
   "cell_type": "markdown",
   "metadata": {},
   "source": [
    "## Udacity Data Analyst Project 1 (Using R)\n",
    "In this project, I am going to use the data given by udacity in the Data Analyst course to create a replica of the project I passed using R programming language. The procedure will be the same with the one I did using Python language but the language will differ.\n",
    "I will start by importing the libraries I need in the following cell. I am open to all your recommendations and corrections. thank you."
   ]
  },
  {
   "cell_type": "code",
   "execution_count": 24,
   "metadata": {},
   "outputs": [],
   "source": [
    "# Reading the csv file and assigning it to a variable\n",
    "data <- read.csv(\"noshow.csv\")"
   ]
  },
  {
   "cell_type": "code",
   "execution_count": 2,
   "metadata": {},
   "outputs": [
    {
     "name": "stdout",
     "output_type": "stream",
     "text": [
      "'data.frame':\t110527 obs. of  14 variables:\n",
      " $ PatientId     : num  2.99e+13 5.59e+14 4.26e+12 8.68e+11 8.84e+12 ...\n",
      " $ AppointmentID : int  5642903 5642503 5642549 5642828 5642494 5626772 5630279 5630575 5638447 5629123 ...\n",
      " $ Gender        : Factor w/ 2 levels \"F\",\"M\": 1 2 1 1 1 1 1 1 1 1 ...\n",
      " $ ScheduledDay  : Factor w/ 103549 levels \"2015-11-10T07:13:56Z\",..: 27742 27504 27539 27709 27498 20074 21386 21496 24945 20895 ...\n",
      " $ AppointmentDay: Factor w/ 27 levels \"2016-04-29T00:00:00Z\",..: 1 1 1 1 1 1 1 1 1 1 ...\n",
      " $ Age           : int  62 56 62 8 56 76 23 39 21 19 ...\n",
      " $ Neighbourhood : Factor w/ 81 levels \"AEROPORTO\",\"ANDORINHAS\",..: 40 40 47 55 40 59 26 26 2 13 ...\n",
      " $ Scholarship   : int  0 0 0 0 0 0 0 0 0 0 ...\n",
      " $ Hipertension  : int  1 0 0 0 1 1 0 0 0 0 ...\n",
      " $ Diabetes      : int  0 0 0 0 1 0 0 0 0 0 ...\n",
      " $ Alcoholism    : int  0 0 0 0 0 0 0 0 0 0 ...\n",
      " $ Handcap       : int  0 0 0 0 0 0 0 0 0 0 ...\n",
      " $ SMS_received  : int  0 0 0 0 0 0 0 0 0 0 ...\n",
      " $ No.show       : Factor w/ 2 levels \"No\",\"Yes\": 1 1 1 1 1 1 2 2 1 1 ...\n"
     ]
    }
   ],
   "source": [
    "# Take a look at the structure of the dataframe\n",
    "str(data)"
   ]
  },
  {
   "cell_type": "raw",
   "metadata": {},
   "source": []
  },
  {
   "cell_type": "code",
   "execution_count": null,
   "metadata": {},
   "outputs": [],
   "source": []
  },
  {
   "cell_type": "code",
   "execution_count": 3,
   "metadata": {},
   "outputs": [
    {
     "data": {
      "text/plain": [
       "   PatientId         AppointmentID     Gender                  ScheduledDay   \n",
       " Min.   :3.922e+04   Min.   :5030230   F:71840   2016-05-06T07:09:54Z:    24  \n",
       " 1st Qu.:4.173e+12   1st Qu.:5640286   M:38687   2016-05-06T07:09:53Z:    23  \n",
       " Median :3.173e+13   Median :5680573             2016-04-25T17:17:46Z:    22  \n",
       " Mean   :1.475e+14   Mean   :5675305             2016-04-25T17:18:27Z:    22  \n",
       " 3rd Qu.:9.439e+13   3rd Qu.:5725524             2016-04-25T17:17:23Z:    19  \n",
       " Max.   :1.000e+15   Max.   :5790484             2016-04-25T17:19:03Z:    15  \n",
       "                                                 (Other)             :110402  \n",
       "              AppointmentDay       Age                 Neighbourhood  \n",
       " 2016-06-06T00:00:00Z: 4692   Min.   : -1.00   JARDIM CAMBURI : 7717  \n",
       " 2016-05-16T00:00:00Z: 4613   1st Qu.: 18.00   MARIA ORTIZ    : 5805  \n",
       " 2016-05-09T00:00:00Z: 4520   Median : 37.00   RESISTÃŠNCIA   : 4431  \n",
       " 2016-05-30T00:00:00Z: 4514   Mean   : 37.09   JARDIM DA PENHA: 3877  \n",
       " 2016-06-08T00:00:00Z: 4479   3rd Qu.: 55.00   ITARARÃ‰       : 3514  \n",
       " 2016-05-11T00:00:00Z: 4474   Max.   :115.00   CENTRO         : 3334  \n",
       " (Other)             :83235                    (Other)        :81849  \n",
       "  Scholarship       Hipertension       Diabetes         Alcoholism    \n",
       " Min.   :0.00000   Min.   :0.0000   Min.   :0.00000   Min.   :0.0000  \n",
       " 1st Qu.:0.00000   1st Qu.:0.0000   1st Qu.:0.00000   1st Qu.:0.0000  \n",
       " Median :0.00000   Median :0.0000   Median :0.00000   Median :0.0000  \n",
       " Mean   :0.09827   Mean   :0.1972   Mean   :0.07186   Mean   :0.0304  \n",
       " 3rd Qu.:0.00000   3rd Qu.:0.0000   3rd Qu.:0.00000   3rd Qu.:0.0000  \n",
       " Max.   :1.00000   Max.   :1.0000   Max.   :1.00000   Max.   :1.0000  \n",
       "                                                                      \n",
       "    Handcap         SMS_received   No.show    \n",
       " Min.   :0.00000   Min.   :0.000   No :88208  \n",
       " 1st Qu.:0.00000   1st Qu.:0.000   Yes:22319  \n",
       " Median :0.00000   Median :0.000              \n",
       " Mean   :0.02225   Mean   :0.321              \n",
       " 3rd Qu.:0.00000   3rd Qu.:1.000              \n",
       " Max.   :4.00000   Max.   :1.000              \n",
       "                                              "
      ]
     },
     "metadata": {},
     "output_type": "display_data"
    }
   ],
   "source": [
    "# Looking at the general information of the data\n",
    "summary(data)"
   ]
  },
  {
   "cell_type": "markdown",
   "metadata": {},
   "source": [
    "## Cleaning the Qualitative Variable\n",
    "The only Quantitative variable in the dataframe is Age, therefore, it is the only variable that may have have outliers in this case, hence we are going to be checking only Age for outliers Using Inter Quatile Range (IQR) Score."
   ]
  },
  {
   "cell_type": "code",
   "execution_count": 4,
   "metadata": {},
   "outputs": [
    {
     "data": {
      "text/html": [
       "<table>\n",
       "<thead><tr><th scope=col>PatientId</th><th scope=col>AppointmentID</th><th scope=col>Gender</th><th scope=col>ScheduledDay</th><th scope=col>AppointmentDay</th><th scope=col>Age</th><th scope=col>Neighbourhood</th><th scope=col>Scholarship</th><th scope=col>Hipertension</th><th scope=col>Diabetes</th><th scope=col>Alcoholism</th><th scope=col>Handcap</th><th scope=col>SMS_received</th><th scope=col>No.show</th></tr></thead>\n",
       "<tbody>\n",
       "</tbody>\n",
       "</table>\n"
      ],
      "text/latex": [
       "\\begin{tabular}{r|llllllllllllll}\n",
       " PatientId & AppointmentID & Gender & ScheduledDay & AppointmentDay & Age & Neighbourhood & Scholarship & Hipertension & Diabetes & Alcoholism & Handcap & SMS\\_received & No.show\\\\\n",
       "\\hline\n",
       "\\end{tabular}\n"
      ],
      "text/markdown": [
       "\n",
       "| PatientId | AppointmentID | Gender | ScheduledDay | AppointmentDay | Age | Neighbourhood | Scholarship | Hipertension | Diabetes | Alcoholism | Handcap | SMS_received | No.show |\n",
       "|---|---|---|---|---|---|---|---|---|---|---|---|---|---|\n",
       "\n"
      ],
      "text/plain": [
       "     PatientId AppointmentID Gender ScheduledDay AppointmentDay Age\n",
       "     Neighbourhood Scholarship Hipertension Diabetes Alcoholism Handcap\n",
       "     SMS_received No.show"
      ]
     },
     "metadata": {},
     "output_type": "display_data"
    }
   ],
   "source": [
    "# Check for duplicates\n",
    "data[duplicated(data),]"
   ]
  },
  {
   "cell_type": "code",
   "execution_count": 5,
   "metadata": {},
   "outputs": [],
   "source": [
    "# Now lets check for NA values and replace them with the mean Age\n",
    "data$Age[is.na(data$Age)] <- median(data$Age)"
   ]
  },
  {
   "cell_type": "code",
   "execution_count": 48,
   "metadata": {},
   "outputs": [],
   "source": [
    "# Replace ages lessthan 1 and greater than 100 with the mean\n",
    "data$Age[data$Age < 1] <-  median(data$Age)\n",
    "data$Age[data$Age > 100] <- median(data$Age)"
   ]
  },
  {
   "cell_type": "code",
   "execution_count": 7,
   "metadata": {},
   "outputs": [
    {
     "data": {
      "text/plain": [
       "   Min. 1st Qu.  Median    Mean 3rd Qu.    Max. \n",
       "   1.00   20.00   37.00   38.27   55.00  100.00 "
      ]
     },
     "metadata": {},
     "output_type": "display_data"
    }
   ],
   "source": [
    "# Look at the summary of age again\n",
    "summary(data$Age)"
   ]
  },
  {
   "cell_type": "markdown",
   "metadata": {},
   "source": [
    "It can be seen in the summary above that the minimum age is -1 and maximum is 115. To clean the outliers we are going to use Flooring and Capping to find the outliers and we will replace the them with the median, this is because the mean is affected by the outliers while the median is not.\n",
    "### Dropping unusable columns\n",
    "The columns \"AppointmentID\", 'PatientId', 'ScheduledDay' and 'Neighbourhood' are not going to be used in the analysis, therefore we are going to drop them."
   ]
  },
  {
   "cell_type": "code",
   "execution_count": 8,
   "metadata": {},
   "outputs": [],
   "source": [
    "# Remove AppointmentID, AppointmentDay, ScheduledDay and Neighbourhodd columns\n",
    "data$AppointmentID <- NULL\n",
    "data$AppointmentDay <- NULL\n",
    "data$ScheduledDay <- NULL\n",
    "data$Neighbourhood <- NULL"
   ]
  },
  {
   "cell_type": "code",
   "execution_count": 9,
   "metadata": {},
   "outputs": [
    {
     "data": {
      "text/html": [
       "<table>\n",
       "<thead><tr><th scope=col>PatientId</th><th scope=col>Gender</th><th scope=col>Age</th><th scope=col>Scholarship</th><th scope=col>Hipertension</th><th scope=col>Diabetes</th><th scope=col>Alcoholism</th><th scope=col>Handcap</th><th scope=col>SMS_received</th><th scope=col>No.show</th></tr></thead>\n",
       "<tbody>\n",
       "\t<tr><td>2.987250e+13</td><td>F           </td><td>62          </td><td>0           </td><td>1           </td><td>0           </td><td>0           </td><td>0           </td><td>0           </td><td>No          </td></tr>\n",
       "\t<tr><td>5.589978e+14</td><td>M           </td><td>56          </td><td>0           </td><td>0           </td><td>0           </td><td>0           </td><td>0           </td><td>0           </td><td>No          </td></tr>\n",
       "\t<tr><td>4.262962e+12</td><td>F           </td><td>62          </td><td>0           </td><td>0           </td><td>0           </td><td>0           </td><td>0           </td><td>0           </td><td>No          </td></tr>\n",
       "\t<tr><td>8.679512e+11</td><td>F           </td><td> 8          </td><td>0           </td><td>0           </td><td>0           </td><td>0           </td><td>0           </td><td>0           </td><td>No          </td></tr>\n",
       "\t<tr><td>8.841186e+12</td><td>F           </td><td>56          </td><td>0           </td><td>1           </td><td>1           </td><td>0           </td><td>0           </td><td>0           </td><td>No          </td></tr>\n",
       "\t<tr><td>9.598513e+13</td><td>F           </td><td>76          </td><td>0           </td><td>1           </td><td>0           </td><td>0           </td><td>0           </td><td>0           </td><td>No          </td></tr>\n",
       "\t<tr><td>7.336882e+14</td><td>F           </td><td>23          </td><td>0           </td><td>0           </td><td>0           </td><td>0           </td><td>0           </td><td>0           </td><td>Yes         </td></tr>\n",
       "\t<tr><td>3.449833e+12</td><td>F           </td><td>39          </td><td>0           </td><td>0           </td><td>0           </td><td>0           </td><td>0           </td><td>0           </td><td>Yes         </td></tr>\n",
       "\t<tr><td>5.639473e+13</td><td>F           </td><td>21          </td><td>0           </td><td>0           </td><td>0           </td><td>0           </td><td>0           </td><td>0           </td><td>No          </td></tr>\n",
       "\t<tr><td>7.812456e+13</td><td>F           </td><td>19          </td><td>0           </td><td>0           </td><td>0           </td><td>0           </td><td>0           </td><td>0           </td><td>No          </td></tr>\n",
       "</tbody>\n",
       "</table>\n"
      ],
      "text/latex": [
       "\\begin{tabular}{r|llllllllll}\n",
       " PatientId & Gender & Age & Scholarship & Hipertension & Diabetes & Alcoholism & Handcap & SMS\\_received & No.show\\\\\n",
       "\\hline\n",
       "\t 2.987250e+13 & F            & 62           & 0            & 1            & 0            & 0            & 0            & 0            & No          \\\\\n",
       "\t 5.589978e+14 & M            & 56           & 0            & 0            & 0            & 0            & 0            & 0            & No          \\\\\n",
       "\t 4.262962e+12 & F            & 62           & 0            & 0            & 0            & 0            & 0            & 0            & No          \\\\\n",
       "\t 8.679512e+11 & F            &  8           & 0            & 0            & 0            & 0            & 0            & 0            & No          \\\\\n",
       "\t 8.841186e+12 & F            & 56           & 0            & 1            & 1            & 0            & 0            & 0            & No          \\\\\n",
       "\t 9.598513e+13 & F            & 76           & 0            & 1            & 0            & 0            & 0            & 0            & No          \\\\\n",
       "\t 7.336882e+14 & F            & 23           & 0            & 0            & 0            & 0            & 0            & 0            & Yes         \\\\\n",
       "\t 3.449833e+12 & F            & 39           & 0            & 0            & 0            & 0            & 0            & 0            & Yes         \\\\\n",
       "\t 5.639473e+13 & F            & 21           & 0            & 0            & 0            & 0            & 0            & 0            & No          \\\\\n",
       "\t 7.812456e+13 & F            & 19           & 0            & 0            & 0            & 0            & 0            & 0            & No          \\\\\n",
       "\\end{tabular}\n"
      ],
      "text/markdown": [
       "\n",
       "| PatientId | Gender | Age | Scholarship | Hipertension | Diabetes | Alcoholism | Handcap | SMS_received | No.show |\n",
       "|---|---|---|---|---|---|---|---|---|---|\n",
       "| 2.987250e+13 | F            | 62           | 0            | 1            | 0            | 0            | 0            | 0            | No           |\n",
       "| 5.589978e+14 | M            | 56           | 0            | 0            | 0            | 0            | 0            | 0            | No           |\n",
       "| 4.262962e+12 | F            | 62           | 0            | 0            | 0            | 0            | 0            | 0            | No           |\n",
       "| 8.679512e+11 | F            |  8           | 0            | 0            | 0            | 0            | 0            | 0            | No           |\n",
       "| 8.841186e+12 | F            | 56           | 0            | 1            | 1            | 0            | 0            | 0            | No           |\n",
       "| 9.598513e+13 | F            | 76           | 0            | 1            | 0            | 0            | 0            | 0            | No           |\n",
       "| 7.336882e+14 | F            | 23           | 0            | 0            | 0            | 0            | 0            | 0            | Yes          |\n",
       "| 3.449833e+12 | F            | 39           | 0            | 0            | 0            | 0            | 0            | 0            | Yes          |\n",
       "| 5.639473e+13 | F            | 21           | 0            | 0            | 0            | 0            | 0            | 0            | No           |\n",
       "| 7.812456e+13 | F            | 19           | 0            | 0            | 0            | 0            | 0            | 0            | No           |\n",
       "\n"
      ],
      "text/plain": [
       "   PatientId    Gender Age Scholarship Hipertension Diabetes Alcoholism Handcap\n",
       "1  2.987250e+13 F      62  0           1            0        0          0      \n",
       "2  5.589978e+14 M      56  0           0            0        0          0      \n",
       "3  4.262962e+12 F      62  0           0            0        0          0      \n",
       "4  8.679512e+11 F       8  0           0            0        0          0      \n",
       "5  8.841186e+12 F      56  0           1            1        0          0      \n",
       "6  9.598513e+13 F      76  0           1            0        0          0      \n",
       "7  7.336882e+14 F      23  0           0            0        0          0      \n",
       "8  3.449833e+12 F      39  0           0            0        0          0      \n",
       "9  5.639473e+13 F      21  0           0            0        0          0      \n",
       "10 7.812456e+13 F      19  0           0            0        0          0      \n",
       "   SMS_received No.show\n",
       "1  0            No     \n",
       "2  0            No     \n",
       "3  0            No     \n",
       "4  0            No     \n",
       "5  0            No     \n",
       "6  0            No     \n",
       "7  0            Yes    \n",
       "8  0            Yes    \n",
       "9  0            No     \n",
       "10 0            No     "
      ]
     },
     "metadata": {},
     "output_type": "display_data"
    }
   ],
   "source": [
    "# Take a look at the dataset\n",
    "head(data, 10)"
   ]
  },
  {
   "cell_type": "markdown",
   "metadata": {},
   "source": [
    "### Exploratory Analysis\n",
    "Now that we've cleaned our data, we're ready to move on to exploration. Compute statistics and create visualizations with the goal of addressing the research questions that we posed in the Introduction section.\n",
    "### Research Question 1: Is recieving sms associated with showing up for the appointment?"
   ]
  },
  {
   "cell_type": "code",
   "execution_count": 45,
   "metadata": {},
   "outputs": [
    {
     "data": {
      "image/png": "[encoded data removed]",
      "text/plain": [
       "plot without title"
      ]
     },
     "metadata": {},
     "output_type": "display_data"
    }
   ],
   "source": [
    "tbl <- with(data, table(SMS_received, No.show))\n",
    "\n",
    "barplot(tbl, beside = TRUE, legend = TRUE, xlab = \"NO SHOW\")"
   ]
  },
  {
   "cell_type": "markdown",
   "metadata": {},
   "source": [
    "In the above barchart, It appears that most of those that show up for the appointment did not recieve sms and they are significantly higher than those that recieved sms and showed for the appointment. In turn, those that did not recieve sms and did not show up are a little bit higher than those that recieved SMS and did not show up.Therefore, I would say; recieving sms is not an imfortant factor in predicting those that will show up for their appointment. Hence it has no relationship with showing up for the appointment."
   ]
  },
  {
   "cell_type": "code",
   "execution_count": 46,
   "metadata": {},
   "outputs": [
    {
     "data": {
      "image/png": "[encoded data removed]",
      "text/plain": [
       "plot without title"
      ]
     },
     "metadata": {},
     "output_type": "display_data"
    }
   ],
   "source": [
    "tbl <- with(data, table(Scholarship, No.show))\n",
    "\n",
    "barplot(tbl, beside = TRUE, legend = TRUE, xlab = \"NO SHOW\")"
   ]
  },
  {
   "cell_type": "markdown",
   "metadata": {},
   "source": [
    "Going by the above, most of the patients that showed for the appoitment are those without scholarship which is significantly higher than those with scholarship. but for the scholarship being limited, ration should be taken to understand if the scholarship attracts more show up. this shows that there exist some postive relatioinship between scholarship and showing up for appointments, and this makes scholarship an important factor in predicting show up."
   ]
  },
  {
   "cell_type": "code",
   "execution_count": 55,
   "metadata": {},
   "outputs": [
    {
     "data": {
      "image/png": "[encoded data removed]",
      "text/plain": [
       "plot without title"
      ]
     },
     "metadata": {},
     "output_type": "display_data"
    }
   ],
   "source": [
    "tbl <- with(data, table(No.show, Age))\n",
    "\n",
    "barplot(tbl, beside = TRUE, legend = TRUE, xlab = \"AGE\")"
   ]
  },
  {
   "cell_type": "code",
   "execution_count": 56,
   "metadata": {},
   "outputs": [
    {
     "data": {
      "image/png": "[encoded data removed]",
      "text/plain": [
       "plot without title"
      ]
     },
     "metadata": {},
     "output_type": "display_data"
    }
   ],
   "source": [
    "tbl <- with(data, table(Gender, No.show))\n",
    "\n",
    "barplot(tbl, beside = TRUE, legend = TRUE, xlab = \"NO SHOW\")"
   ]
  },
  {
   "cell_type": "markdown",
   "metadata": {},
   "source": [
    "Regarding the gender, the Females show up most for the appointment, and the ration to which males missed appointment is higher than that of the females. In short we can say that, the females are much more functual in showing up for appointments. The age distribution showed that,patients around 35-36 years of age showed up most, followed children between 0 - 10 years show up for the appointments more than all other age groups, followed by those between 55 and 60, while the elderly comes last.\n",
    "\n",
    "### Do patients with specific illness show more than others?\n",
    "To answer this question we need to find out the number of patients with specific illness and compare their rate of showing for appointments, to do this we will create four instances for each condition as below."
   ]
  },
  {
   "cell_type": "code",
   "execution_count": 76,
   "metadata": {},
   "outputs": [
    {
     "data": {
      "image/png": "[encoded data removed]",
      "text/plain": [
       "plot without title"
      ]
     },
     "metadata": {},
     "output_type": "display_data"
    }
   ],
   "source": [
    "library(Rmisc)\n",
    "p1 <- ggplot(data, aes(x = Hipertension, fill = No.show))+\n",
    "    geom_bar(position = 'stack')\n",
    "p2 <- ggplot(data, aes(x = Diabetes, fill = No.show))+\n",
    "    geom_bar(position = 'stack')\n",
    "p3 <- ggplot(data, aes(x = Handcap, fill = No.show))+\n",
    "    geom_bar(position = 'stack')\n",
    "\n",
    "multiplot(p1,p2,p3, cols = 3)"
   ]
  },
  {
   "cell_type": "markdown",
   "metadata": {},
   "source": [
    "### Conclusions\n",
    "Based on the analysis presented, it maybe concluded that, looking at the percentage of patients with scholarship, they appear to be showing up for appointments more than those without. It also appears that patients show up mostly on Wednesday. Also, Young and medium aged people may show up for their appointments more than elderly. patients with Hipertension appear to showup more than those with other medical conditions. The project may come up with short comings such as the presentation and plots, and that maybe as a result of my little experiance in the working with analysis.\n",
    "\n",
    "### Limitations\n",
    "#### Number of appointments in a day was not considered\n",
    "In the analysis of appointment days, number of appointments per each is not considered in the analysis, and that may be a problem which may result in wrong analysis as the number of appointments differ by days.\n",
    "\n",
    "#### The ratio of Male to Female population is also not considered\n",
    "In the gender chart, we based the analysis on the rate of show of males and females, and this may cause wrong analysis because the number of females may exceed the number of males and vice verca."
   ]
  },
  {
   "cell_type": "code",
   "execution_count": null,
   "metadata": {},
   "outputs": [],
   "source": []
  }
 ],
 "metadata": {
  "kernelspec": {
   "display_name": "R",
   "language": "R",
   "name": "ir"
  },
  "language_info": {
   "codemirror_mode": "r",
   "file_extension": ".r",
   "mimetype": "text/x-r-source",
   "name": "R",
   "pygments_lexer": "r",
   "version": "3.6.1"
  }
 },
 "nbformat": 4,
 "nbformat_minor": 4
}
